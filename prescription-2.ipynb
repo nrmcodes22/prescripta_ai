{
 "cells": [
  {
   "cell_type": "code",
   "execution_count": null,
   "metadata": {
    "execution": {
     "iopub.execute_input": "2025-02-25T08:36:32.707903Z",
     "iopub.status.busy": "2025-02-25T08:36:32.707473Z",
     "iopub.status.idle": "2025-02-25T08:36:32.713749Z",
     "shell.execute_reply": "2025-02-25T08:36:32.712674Z",
     "shell.execute_reply.started": "2025-02-25T08:36:32.707869Z"
    },
    "trusted": true
   },
   "outputs": [],
   "source": [
    "import os\n",
    "import tensorflow as tf\n",
    "import pandas as pd\n",
    "import numpy as np\n",
    "import cv2\n",
    "from tensorflow.keras.applications import MobileNet, EfficientNetB0, ResNet50\n",
    "from sklearn.model_selection import train_test_split\n",
    "from sklearn.preprocessing import LabelEncoder\n",
    "from tensorflow.keras.preprocessing.image import img_to_array, load_img, ImageDataGenerator\n",
    "from tensorflow.keras.utils import to_categorical\n",
    "from tensorflow.keras.models import Sequential, Model\n",
    "from tensorflow.keras.layers import Conv2D, BatchNormalization, MaxPooling2D, Flatten, Dense, Dropout, GlobalAveragePooling2D, Input\n",
    "from tensorflow.keras.optimizers import Adam\n",
    "from tensorflow.keras.callbacks import ReduceLROnPlateau\n"
   ]
  },
  {
   "cell_type": "code",
   "execution_count": null,
   "metadata": {
    "execution": {
     "iopub.execute_input": "2025-02-25T09:16:51.907282Z",
     "iopub.status.busy": "2025-02-25T09:16:51.906868Z",
     "iopub.status.idle": "2025-02-25T09:16:51.912582Z",
     "shell.execute_reply": "2025-02-25T09:16:51.911457Z",
     "shell.execute_reply.started": "2025-02-25T09:16:51.907253Z"
    },
    "trusted": true
   },
   "outputs": [],
   "source": [
    "image_folder = './Training/training_words'\n",
    "label_file = './Training/training_labels.csv'\n",
    "img_folder_test = './Testing/testing_words'\n",
    "label_test = './Testing/testing_labels.csv'\n",
    "img_val = './Validation/validation_words'\n",
    "label_val = './Validation/validation_labels.csv'"
   ]
  },
  {
   "cell_type": "code",
   "execution_count": null,
   "metadata": {
    "execution": {
     "iopub.execute_input": "2025-02-25T07:04:03.701404Z",
     "iopub.status.busy": "2025-02-25T07:04:03.701081Z",
     "iopub.status.idle": "2025-02-25T07:04:03.718978Z",
     "shell.execute_reply": "2025-02-25T07:04:03.717882Z",
     "shell.execute_reply.started": "2025-02-25T07:04:03.701380Z"
    },
    "trusted": true
   },
   "outputs": [],
   "source": [
    "labels_df_train = pd.read_csv(label_file)\n",
    "label_test = pd.read_csv(label_test)\n",
    "label_val = pd.read_csv(label_val)\n"
   ]
  },
  {
   "cell_type": "code",
   "execution_count": 54,
   "metadata": {
    "execution": {
     "iopub.execute_input": "2025-02-25T07:04:04.312742Z",
     "iopub.status.busy": "2025-02-25T07:04:04.312291Z",
     "iopub.status.idle": "2025-02-25T07:04:04.320915Z",
     "shell.execute_reply": "2025-02-25T07:04:04.319700Z",
     "shell.execute_reply.started": "2025-02-25T07:04:04.312705Z"
    },
    "trusted": true
   },
   "outputs": [
    {
     "name": "stdout",
     "output_type": "stream",
     "text": [
      "First few rows of the dataframe:\n",
      "   IMAGE MEDICINE_NAME GENERIC_NAME\n",
      "0  0.png         Aceta  Paracetamol\n",
      "1  1.png         Aceta  Paracetamol\n",
      "2  2.png         Aceta  Paracetamol\n",
      "3  3.png         Aceta  Paracetamol\n",
      "4  4.png         Aceta  Paracetamol\n"
     ]
    }
   ],
   "source": [
    "\n",
    "print(\"First few rows of the dataframe:\")\n",
    "print(labels_df_train.head())"
   ]
  },
  {
   "cell_type": "code",
   "execution_count": 55,
   "metadata": {
    "execution": {
     "iopub.execute_input": "2025-02-25T07:04:07.193062Z",
     "iopub.status.busy": "2025-02-25T07:04:07.192677Z",
     "iopub.status.idle": "2025-02-25T07:04:07.200224Z",
     "shell.execute_reply": "2025-02-25T07:04:07.199097Z",
     "shell.execute_reply.started": "2025-02-25T07:04:07.193029Z"
    },
    "trusted": true
   },
   "outputs": [
    {
     "data": {
      "text/plain": [
       "78"
      ]
     },
     "execution_count": 55,
     "metadata": {},
     "output_type": "execute_result"
    }
   ],
   "source": [
    "len(labels_df_train['MEDICINE_NAME'].unique())"
   ]
  },
  {
   "cell_type": "code",
   "execution_count": 62,
   "metadata": {
    "execution": {
     "iopub.execute_input": "2025-02-25T07:04:23.166258Z",
     "iopub.status.busy": "2025-02-25T07:04:23.165788Z",
     "iopub.status.idle": "2025-02-25T07:04:23.180519Z",
     "shell.execute_reply": "2025-02-25T07:04:23.179409Z",
     "shell.execute_reply.started": "2025-02-25T07:04:23.166215Z"
    },
    "trusted": true
   },
   "outputs": [],
   "source": [
    "data_augmentation = tf.keras.Sequential(\n",
    "  [\n",
    "    tf.keras.layers.RandomFlip(\"horizontal\"),\n",
    "    tf.keras.layers.RandomRotation(0.1),\n",
    "    tf.keras.layers.RandomZoom(0.1),\n",
    "  ]\n",
    ")"
   ]
  },
  {
   "cell_type": "code",
   "execution_count": 149,
   "metadata": {
    "execution": {
     "iopub.execute_input": "2025-02-25T09:17:02.978290Z",
     "iopub.status.busy": "2025-02-25T09:17:02.977885Z",
     "iopub.status.idle": "2025-02-25T09:17:13.066749Z",
     "shell.execute_reply": "2025-02-25T09:17:13.065642Z",
     "shell.execute_reply.started": "2025-02-25T09:17:02.978255Z"
    },
    "trusted": true
   },
   "outputs": [],
   "source": [
    "\n",
    "def load_data(image_dir, csv_file, img_width=128, img_height=32):\n",
    "    data = pd.read_csv(csv_file)\n",
    "    \n",
    "    images = []\n",
    "    labels = []\n",
    "\n",
    "    for index, row in data.iterrows():\n",
    "        img_path = os.path.join(image_dir, row['IMAGE'])\n",
    "        if os.path.exists(img_path):\n",
    "            image = cv2.imread(img_path, cv2.IMREAD_GRAYSCALE)\n",
    "            if image is not None:\n",
    "                image = cv2.resize(image, (img_width, img_height))\n",
    "                image = image / 255.0 \n",
    "                images.append(image)\n",
    "                labels.append(row['MEDICINE_NAME'])\n",
    "\n",
    "    images = np.array(images).reshape(-1, img_height, img_width, 1)\n",
    "    return images, labels\n",
    "\n",
    "train_images, train_labels = load_data(image_folder, label_file)\n",
    "validation_images, validation_labels = load_data(img_val, label_val)\n",
    "test_images, test_labels = load_data(img_folder_test, label_test)"
   ]
  },
  {
   "cell_type": "code",
   "execution_count": 150,
   "metadata": {
    "execution": {
     "iopub.execute_input": "2025-02-25T09:17:38.424508Z",
     "iopub.status.busy": "2025-02-25T09:17:38.424143Z",
     "iopub.status.idle": "2025-02-25T09:17:38.434453Z",
     "shell.execute_reply": "2025-02-25T09:17:38.433495Z",
     "shell.execute_reply.started": "2025-02-25T09:17:38.424481Z"
    },
    "trusted": true
   },
   "outputs": [],
   "source": [
    "from sklearn.preprocessing import LabelEncoder\n",
    "label_encoder = LabelEncoder()\n",
    "all_labels = train_labels + validation_labels + test_labels\n",
    "label_encoder.fit(all_labels)\n",
    "\n",
    "train_labels_encoded = label_encoder.transform(train_labels)\n",
    "validation_labels_encoded = label_encoder.transform(validation_labels)\n",
    "test_labels_encoded = label_encoder.transform(test_labels)"
   ]
  },
  {
   "cell_type": "code",
   "execution_count": 151,
   "metadata": {
    "execution": {
     "iopub.execute_input": "2025-02-25T09:17:40.422988Z",
     "iopub.status.busy": "2025-02-25T09:17:40.422649Z",
     "iopub.status.idle": "2025-02-25T09:17:40.479371Z",
     "shell.execute_reply": "2025-02-25T09:17:40.478473Z",
     "shell.execute_reply.started": "2025-02-25T09:17:40.422962Z"
    },
    "trusted": true
   },
   "outputs": [
    {
     "data": {
      "text/plain": [
       "(780, 32, 128, 1)"
      ]
     },
     "execution_count": 151,
     "metadata": {},
     "output_type": "execute_result"
    }
   ],
   "source": [
    "train_images = train_images.reshape((-1, 32, 128, 1))  # Update height and width as per your data\n",
    "validation_images = validation_images.reshape((-1, 32, 128, 1))  # Same here\n",
    "test_images= test_images.reshape((-1, 32, 128, 1)) \n",
    "train_labels1 = np.array(train_labels)\n",
    "validation_labels1 =np.array(validation_labels)\n",
    "test_labels=np.array(test_labels)\n",
    "train_images = np.array(train_images)\n",
    "train_labels = np.array(train_labels_encoded)\n",
    "validation_images=np.array(validation_images)\n",
    "validation_labels =np.array(validation_labels_encoded)\n",
    "test_images=np.array(test_images)\n",
    "test_labels=np.array(test_labels_encoded)\n",
    "test_images.shape"
   ]
  },
  {
   "cell_type": "code",
   "execution_count": 152,
   "metadata": {
    "execution": {
     "iopub.execute_input": "2025-02-25T09:18:04.306165Z",
     "iopub.status.busy": "2025-02-25T09:18:04.305799Z",
     "iopub.status.idle": "2025-02-25T09:18:04.549535Z",
     "shell.execute_reply": "2025-02-25T09:18:04.548805Z",
     "shell.execute_reply.started": "2025-02-25T09:18:04.306139Z"
    },
    "trusted": true
   },
   "outputs": [],
   "source": [
    "import tensorflow as tf\n",
    "from tensorflow.keras import layers, Model\n",
    "\n",
    "def create_model(input_shape, num_classes):\n",
    "    inputs = layers.Input(shape=input_shape)\n",
    "\n",
    "    x = layers.Conv2D(64, (3, 3), activation='relu', padding='same', kernel_regularizer=tf.keras.regularizers.l2(0.01))(inputs)\n",
    "    x = layers.BatchNormalization()(x)\n",
    "    x = layers.MaxPooling2D((2, 2))(x)\n",
    "    x = layers.Dropout(0.3)(x)\n",
    "\n",
    "    x = layers.Conv2D(128, (3, 3), activation='relu', padding='same', kernel_regularizer=tf.keras.regularizers.l2(0.01))(x)\n",
    "    x = layers.BatchNormalization()(x)\n",
    "    x = layers.MaxPooling2D((2, 2))(x)\n",
    "    x = layers.Dropout(0.3)(x)\n",
    "\n",
    "    x = layers.Conv2D(256, (3, 3), activation='relu', padding='same', kernel_regularizer=tf.keras.regularizers.l2(0.01))(x)\n",
    "    x = layers.BatchNormalization()(x)\n",
    "    x = layers.MaxPooling2D((2, 2))(x)\n",
    "    x = layers.Dropout(0.4)(x)\n",
    "\n",
    "    # Compute the output shape to determine the reshape dimensions\n",
    "    output_shape = x.shape[1:]  \n",
    "    reshape_dim = output_shape[0] * output_shape[1]  \n",
    "\n",
    "   \n",
    "    x = layers.Reshape((reshape_dim, 256))(x)  \n",
    "\n",
    "    x = layers.Bidirectional(layers.LSTM(256, return_sequences=True, kernel_regularizer=tf.keras.regularizers.l2(0.01), recurrent_dropout=0.2))(x)\n",
    "   # x = layers.Bidirectional(layers.LSTM(256, kernel_regularizer=tf.keras.regularizers.l2(0.01), recurrent_dropout=0.2))(x)\n",
    "\n",
    "    \n",
    "    outputs = layers.Dense(num_classes, activation='softmax')(x)\n",
    "\n",
    "    model = Model(inputs, outputs)\n",
    "    return model\n",
    "from tensorflow.keras.optimizers import Adam\n",
    "input_shape = (32, 128, 1)  # Height, width, channels\n",
    "num_classes = len(label_encoder.classes_)\n",
    "model = create_model(input_shape, num_classes)\n",
    "# Compile the model\n",
    "\n",
    "model.compile(optimizer=Adam(), loss='sparse_categorical_crossentropy', metrics=['accuracy'])"
   ]
  },
  {
   "cell_type": "code",
   "execution_count": 153,
   "metadata": {
    "execution": {
     "iopub.execute_input": "2025-02-25T09:18:19.252743Z",
     "iopub.status.busy": "2025-02-25T09:18:19.252333Z",
     "iopub.status.idle": "2025-02-25T09:18:19.257368Z",
     "shell.execute_reply": "2025-02-25T09:18:19.256238Z",
     "shell.execute_reply.started": "2025-02-25T09:18:19.252709Z"
    },
    "trusted": true
   },
   "outputs": [],
   "source": [
    "from tensorflow.keras.callbacks import ModelCheckpoint\n",
    "checkpoint_callback = ModelCheckpoint('model_best.keras', monitor='val_loss', save_best_only=True, mode='min', verbose=1)"
   ]
  },
  {
   "cell_type": "code",
   "execution_count": 154,
   "metadata": {
    "execution": {
     "iopub.execute_input": "2025-02-25T09:18:30.728029Z",
     "iopub.status.busy": "2025-02-25T09:18:30.727686Z",
     "iopub.status.idle": "2025-02-25T10:10:41.226239Z",
     "shell.execute_reply": "2025-02-25T10:10:41.225157Z",
     "shell.execute_reply.started": "2025-02-25T09:18:30.728003Z"
    },
    "trusted": true
   },
   "outputs": [
    {
     "name": "stdout",
     "output_type": "stream",
     "text": [
      "Epoch 1/100\n",
      "\u001b[1m98/98\u001b[0m \u001b[32m━━━━━━━━━━━━━━━━━━━━\u001b[0m\u001b[37m\u001b[0m \u001b[1m42s\u001b[0m 337ms/step - accuracy: 0.0377 - loss: 17.1742 - learning_rate: 0.0010\n",
      "Epoch 2/100\n",
      "\u001b[1m98/98\u001b[0m \u001b[32m━━━━━━━━━━━━━━━━━━━━\u001b[0m\u001b[37m\u001b[0m \u001b[1m32s\u001b[0m 325ms/step - accuracy: 0.1049 - loss: 4.6544 - learning_rate: 0.0010\n",
      "Epoch 3/100\n",
      "\u001b[1m98/98\u001b[0m \u001b[32m━━━━━━━━━━━━━━━━━━━━\u001b[0m\u001b[37m\u001b[0m \u001b[1m32s\u001b[0m 324ms/step - accuracy: 0.2172 - loss: 3.8185 - learning_rate: 0.0010\n",
      "Epoch 4/100\n",
      "\u001b[1m98/98\u001b[0m \u001b[32m━━━━━━━━━━━━━━━━━━━━\u001b[0m\u001b[37m\u001b[0m \u001b[1m32s\u001b[0m 323ms/step - accuracy: 0.3049 - loss: 3.4540 - learning_rate: 0.0010\n",
      "Epoch 5/100\n",
      "\u001b[1m98/98\u001b[0m \u001b[32m━━━━━━━━━━━━━━━━━━━━\u001b[0m\u001b[37m\u001b[0m \u001b[1m32s\u001b[0m 323ms/step - accuracy: 0.3851 - loss: 3.2801 - learning_rate: 0.0010\n",
      "Epoch 6/100\n",
      "\u001b[1m98/98\u001b[0m \u001b[32m━━━━━━━━━━━━━━━━━━━━\u001b[0m\u001b[37m\u001b[0m \u001b[1m32s\u001b[0m 327ms/step - accuracy: 0.4932 - loss: 2.9150 - learning_rate: 0.0010\n",
      "Epoch 7/100\n",
      "\u001b[1m98/98\u001b[0m \u001b[32m━━━━━━━━━━━━━━━━━━━━\u001b[0m\u001b[37m\u001b[0m \u001b[1m32s\u001b[0m 326ms/step - accuracy: 0.5750 - loss: 2.6580 - learning_rate: 0.0010\n",
      "Epoch 8/100\n",
      "\u001b[1m98/98\u001b[0m \u001b[32m━━━━━━━━━━━━━━━━━━━━\u001b[0m\u001b[37m\u001b[0m \u001b[1m32s\u001b[0m 327ms/step - accuracy: 0.6121 - loss: 2.6594 - learning_rate: 0.0010\n",
      "Epoch 9/100\n",
      "\u001b[1m98/98\u001b[0m \u001b[32m━━━━━━━━━━━━━━━━━━━━\u001b[0m\u001b[37m\u001b[0m \u001b[1m32s\u001b[0m 322ms/step - accuracy: 0.6539 - loss: 2.4866 - learning_rate: 0.0010\n",
      "Epoch 10/100\n",
      "\u001b[1m98/98\u001b[0m \u001b[32m━━━━━━━━━━━━━━━━━━━━\u001b[0m\u001b[37m\u001b[0m \u001b[1m33s\u001b[0m 333ms/step - accuracy: 0.6958 - loss: 2.3346 - learning_rate: 0.0010\n",
      "Epoch 11/100\n",
      "\u001b[1m98/98\u001b[0m \u001b[32m━━━━━━━━━━━━━━━━━━━━\u001b[0m\u001b[37m\u001b[0m \u001b[1m33s\u001b[0m 332ms/step - accuracy: 0.7254 - loss: 2.3015 - learning_rate: 0.0010\n",
      "Epoch 12/100\n",
      "\u001b[1m98/98\u001b[0m \u001b[32m━━━━━━━━━━━━━━━━━━━━\u001b[0m\u001b[37m\u001b[0m \u001b[1m32s\u001b[0m 330ms/step - accuracy: 0.7265 - loss: 2.2734 - learning_rate: 0.0010\n",
      "Epoch 13/100\n",
      "\u001b[1m98/98\u001b[0m \u001b[32m━━━━━━━━━━━━━━━━━━━━\u001b[0m\u001b[37m\u001b[0m \u001b[1m32s\u001b[0m 329ms/step - accuracy: 0.7423 - loss: 2.1832 - learning_rate: 0.0010\n",
      "Epoch 14/100\n",
      "\u001b[1m98/98\u001b[0m \u001b[32m━━━━━━━━━━━━━━━━━━━━\u001b[0m\u001b[37m\u001b[0m \u001b[1m32s\u001b[0m 324ms/step - accuracy: 0.7805 - loss: 2.0173 - learning_rate: 0.0010\n",
      "Epoch 15/100\n",
      "\u001b[1m98/98\u001b[0m \u001b[32m━━━━━━━━━━━━━━━━━━━━\u001b[0m\u001b[37m\u001b[0m \u001b[1m32s\u001b[0m 322ms/step - accuracy: 0.7804 - loss: 1.9996 - learning_rate: 0.0010\n",
      "Epoch 16/100\n",
      "\u001b[1m98/98\u001b[0m \u001b[32m━━━━━━━━━━━━━━━━━━━━\u001b[0m\u001b[37m\u001b[0m \u001b[1m32s\u001b[0m 322ms/step - accuracy: 0.7765 - loss: 2.0266 - learning_rate: 0.0010\n",
      "Epoch 17/100\n",
      "\u001b[1m98/98\u001b[0m \u001b[32m━━━━━━━━━━━━━━━━━━━━\u001b[0m\u001b[37m\u001b[0m \u001b[1m31s\u001b[0m 320ms/step - accuracy: 0.8178 - loss: 1.8794 - learning_rate: 0.0010\n",
      "Epoch 18/100\n",
      "\u001b[1m98/98\u001b[0m \u001b[32m━━━━━━━━━━━━━━━━━━━━\u001b[0m\u001b[37m\u001b[0m \u001b[1m31s\u001b[0m 321ms/step - accuracy: 0.8027 - loss: 1.8740 - learning_rate: 0.0010\n",
      "Epoch 19/100\n",
      "\u001b[1m98/98\u001b[0m \u001b[32m━━━━━━━━━━━━━━━━━━━━\u001b[0m\u001b[37m\u001b[0m \u001b[1m31s\u001b[0m 318ms/step - accuracy: 0.8179 - loss: 1.8750 - learning_rate: 0.0010\n",
      "Epoch 20/100\n",
      "\u001b[1m98/98\u001b[0m \u001b[32m━━━━━━━━━━━━━━━━━━━━\u001b[0m\u001b[37m\u001b[0m \u001b[1m32s\u001b[0m 322ms/step - accuracy: 0.8324 - loss: 1.7575 - learning_rate: 0.0010\n",
      "Epoch 21/100\n",
      "\u001b[1m98/98\u001b[0m \u001b[32m━━━━━━━━━━━━━━━━━━━━\u001b[0m\u001b[37m\u001b[0m \u001b[1m31s\u001b[0m 318ms/step - accuracy: 0.8243 - loss: 1.7791 - learning_rate: 0.0010\n",
      "Epoch 22/100\n",
      "\u001b[1m98/98\u001b[0m \u001b[32m━━━━━━━━━━━━━━━━━━━━\u001b[0m\u001b[37m\u001b[0m \u001b[1m32s\u001b[0m 322ms/step - accuracy: 0.8369 - loss: 1.7430 - learning_rate: 0.0010\n",
      "Epoch 23/100\n",
      "\u001b[1m98/98\u001b[0m \u001b[32m━━━━━━━━━━━━━━━━━━━━\u001b[0m\u001b[37m\u001b[0m \u001b[1m32s\u001b[0m 322ms/step - accuracy: 0.8519 - loss: 1.6471 - learning_rate: 0.0010\n",
      "Epoch 24/100\n",
      "\u001b[1m98/98\u001b[0m \u001b[32m━━━━━━━━━━━━━━━━━━━━\u001b[0m\u001b[37m\u001b[0m \u001b[1m32s\u001b[0m 327ms/step - accuracy: 0.8384 - loss: 1.6928 - learning_rate: 0.0010\n",
      "Epoch 25/100\n",
      "\u001b[1m98/98\u001b[0m \u001b[32m━━━━━━━━━━━━━━━━━━━━\u001b[0m\u001b[37m\u001b[0m \u001b[1m32s\u001b[0m 322ms/step - accuracy: 0.8491 - loss: 1.7528 - learning_rate: 0.0010\n",
      "Epoch 26/100\n",
      "\u001b[1m98/98\u001b[0m \u001b[32m━━━━━━━━━━━━━━━━━━━━\u001b[0m\u001b[37m\u001b[0m \u001b[1m31s\u001b[0m 320ms/step - accuracy: 0.8626 - loss: 1.6415 - learning_rate: 0.0010\n",
      "Epoch 27/100\n",
      "\u001b[1m98/98\u001b[0m \u001b[32m━━━━━━━━━━━━━━━━━━━━\u001b[0m\u001b[37m\u001b[0m \u001b[1m32s\u001b[0m 322ms/step - accuracy: 0.8598 - loss: 1.5886 - learning_rate: 0.0010\n",
      "Epoch 28/100\n",
      "\u001b[1m98/98\u001b[0m \u001b[32m━━━━━━━━━━━━━━━━━━━━\u001b[0m\u001b[37m\u001b[0m \u001b[1m32s\u001b[0m 328ms/step - accuracy: 0.8819 - loss: 1.5293 - learning_rate: 0.0010\n",
      "Epoch 29/100\n",
      "\u001b[1m98/98\u001b[0m \u001b[32m━━━━━━━━━━━━━━━━━━━━\u001b[0m\u001b[37m\u001b[0m \u001b[1m32s\u001b[0m 323ms/step - accuracy: 0.8684 - loss: 1.5111 - learning_rate: 0.0010\n",
      "Epoch 30/100\n",
      "\u001b[1m98/98\u001b[0m \u001b[32m━━━━━━━━━━━━━━━━━━━━\u001b[0m\u001b[37m\u001b[0m \u001b[1m32s\u001b[0m 328ms/step - accuracy: 0.8878 - loss: 1.4393 - learning_rate: 0.0010\n",
      "Epoch 31/100\n",
      "\u001b[1m98/98\u001b[0m \u001b[32m━━━━━━━━━━━━━━━━━━━━\u001b[0m\u001b[37m\u001b[0m \u001b[1m32s\u001b[0m 329ms/step - accuracy: 0.8559 - loss: 1.6320 - learning_rate: 0.0010\n",
      "Epoch 32/100\n",
      "\u001b[1m98/98\u001b[0m \u001b[32m━━━━━━━━━━━━━━━━━━━━\u001b[0m\u001b[37m\u001b[0m \u001b[1m32s\u001b[0m 324ms/step - accuracy: 0.9046 - loss: 1.4691 - learning_rate: 0.0010\n",
      "Epoch 33/100\n",
      "\u001b[1m98/98\u001b[0m \u001b[32m━━━━━━━━━━━━━━━━━━━━\u001b[0m\u001b[37m\u001b[0m \u001b[1m32s\u001b[0m 324ms/step - accuracy: 0.8818 - loss: 1.4558 - learning_rate: 0.0010\n",
      "Epoch 34/100\n",
      "\u001b[1m98/98\u001b[0m \u001b[32m━━━━━━━━━━━━━━━━━━━━\u001b[0m\u001b[37m\u001b[0m \u001b[1m32s\u001b[0m 327ms/step - accuracy: 0.8812 - loss: 1.4450 - learning_rate: 0.0010\n",
      "Epoch 35/100\n",
      "\u001b[1m98/98\u001b[0m \u001b[32m━━━━━━━━━━━━━━━━━━━━\u001b[0m\u001b[37m\u001b[0m \u001b[1m32s\u001b[0m 326ms/step - accuracy: 0.8984 - loss: 1.3914 - learning_rate: 0.0010\n",
      "Epoch 36/100\n",
      "\u001b[1m98/98\u001b[0m \u001b[32m━━━━━━━━━━━━━━━━━━━━\u001b[0m\u001b[37m\u001b[0m \u001b[1m32s\u001b[0m 329ms/step - accuracy: 0.9059 - loss: 1.3972 - learning_rate: 0.0010\n",
      "Epoch 37/100\n",
      "\u001b[1m98/98\u001b[0m \u001b[32m━━━━━━━━━━━━━━━━━━━━\u001b[0m\u001b[37m\u001b[0m \u001b[1m32s\u001b[0m 326ms/step - accuracy: 0.9036 - loss: 1.3608 - learning_rate: 0.0010\n",
      "Epoch 38/100\n",
      "\u001b[1m98/98\u001b[0m \u001b[32m━━━━━━━━━━━━━━━━━━━━\u001b[0m\u001b[37m\u001b[0m \u001b[1m32s\u001b[0m 326ms/step - accuracy: 0.8988 - loss: 1.4050 - learning_rate: 0.0010\n",
      "Epoch 39/100\n",
      "\u001b[1m98/98\u001b[0m \u001b[32m━━━━━━━━━━━━━━━━━━━━\u001b[0m\u001b[37m\u001b[0m \u001b[1m32s\u001b[0m 325ms/step - accuracy: 0.9001 - loss: 1.4614 - learning_rate: 0.0010\n",
      "Epoch 40/100\n",
      "\u001b[1m98/98\u001b[0m \u001b[32m━━━━━━━━━━━━━━━━━━━━\u001b[0m\u001b[37m\u001b[0m \u001b[1m32s\u001b[0m 325ms/step - accuracy: 0.9135 - loss: 1.3772 - learning_rate: 0.0010\n",
      "Epoch 41/100\n",
      "\u001b[1m98/98\u001b[0m \u001b[32m━━━━━━━━━━━━━━━━━━━━\u001b[0m\u001b[37m\u001b[0m \u001b[1m32s\u001b[0m 324ms/step - accuracy: 0.8951 - loss: 1.4950 - learning_rate: 0.0010\n",
      "Epoch 42/100\n",
      "\u001b[1m98/98\u001b[0m \u001b[32m━━━━━━━━━━━━━━━━━━━━\u001b[0m\u001b[37m\u001b[0m \u001b[1m31s\u001b[0m 321ms/step - accuracy: 0.9143 - loss: 1.3302 - learning_rate: 0.0010\n",
      "Epoch 43/100\n",
      "\u001b[1m98/98\u001b[0m \u001b[32m━━━━━━━━━━━━━━━━━━━━\u001b[0m\u001b[37m\u001b[0m \u001b[1m32s\u001b[0m 323ms/step - accuracy: 0.9065 - loss: 1.3730 - learning_rate: 0.0010\n",
      "Epoch 44/100\n",
      "\u001b[1m98/98\u001b[0m \u001b[32m━━━━━━━━━━━━━━━━━━━━\u001b[0m\u001b[37m\u001b[0m \u001b[1m32s\u001b[0m 324ms/step - accuracy: 0.9192 - loss: 1.2993 - learning_rate: 0.0010\n",
      "Epoch 45/100\n",
      "\u001b[1m98/98\u001b[0m \u001b[32m━━━━━━━━━━━━━━━━━━━━\u001b[0m\u001b[37m\u001b[0m \u001b[1m32s\u001b[0m 327ms/step - accuracy: 0.9189 - loss: 1.2266 - learning_rate: 0.0010\n",
      "Epoch 46/100\n",
      "\u001b[1m98/98\u001b[0m \u001b[32m━━━━━━━━━━━━━━━━━━━━\u001b[0m\u001b[37m\u001b[0m \u001b[1m32s\u001b[0m 324ms/step - accuracy: 0.8957 - loss: 1.4589 - learning_rate: 0.0010\n",
      "Epoch 47/100\n",
      "\u001b[1m98/98\u001b[0m \u001b[32m━━━━━━━━━━━━━━━━━━━━\u001b[0m\u001b[37m\u001b[0m \u001b[1m32s\u001b[0m 327ms/step - accuracy: 0.9182 - loss: 1.3011 - learning_rate: 0.0010\n",
      "Epoch 48/100\n",
      "\u001b[1m98/98\u001b[0m \u001b[32m━━━━━━━━━━━━━━━━━━━━\u001b[0m\u001b[37m\u001b[0m \u001b[1m32s\u001b[0m 329ms/step - accuracy: 0.9227 - loss: 1.2023 - learning_rate: 0.0010\n",
      "Epoch 49/100\n",
      "\u001b[1m98/98\u001b[0m \u001b[32m━━━━━━━━━━━━━━━━━━━━\u001b[0m\u001b[37m\u001b[0m \u001b[1m32s\u001b[0m 329ms/step - accuracy: 0.9360 - loss: 1.1610 - learning_rate: 0.0010\n",
      "Epoch 50/100\n",
      "\u001b[1m98/98\u001b[0m \u001b[32m━━━━━━━━━━━━━━━━━━━━\u001b[0m\u001b[37m\u001b[0m \u001b[1m32s\u001b[0m 326ms/step - accuracy: 0.9316 - loss: 1.2371 - learning_rate: 0.0010\n",
      "Epoch 51/100\n",
      "\u001b[1m98/98\u001b[0m \u001b[32m━━━━━━━━━━━━━━━━━━━━\u001b[0m\u001b[37m\u001b[0m \u001b[1m32s\u001b[0m 330ms/step - accuracy: 0.9249 - loss: 1.2033 - learning_rate: 0.0010\n",
      "Epoch 52/100\n",
      "\u001b[1m98/98\u001b[0m \u001b[32m━━━━━━━━━━━━━━━━━━━━\u001b[0m\u001b[37m\u001b[0m \u001b[1m31s\u001b[0m 320ms/step - accuracy: 0.9090 - loss: 1.3773 - learning_rate: 0.0010\n",
      "Epoch 53/100\n",
      "\u001b[1m98/98\u001b[0m \u001b[32m━━━━━━━━━━━━━━━━━━━━\u001b[0m\u001b[37m\u001b[0m \u001b[1m31s\u001b[0m 316ms/step - accuracy: 0.9257 - loss: 1.2865 - learning_rate: 0.0010\n",
      "Epoch 54/100\n",
      "\u001b[1m98/98\u001b[0m \u001b[32m━━━━━━━━━━━━━━━━━━━━\u001b[0m\u001b[37m\u001b[0m \u001b[1m30s\u001b[0m 309ms/step - accuracy: 0.9191 - loss: 1.2401 - learning_rate: 0.0010\n",
      "Epoch 55/100\n",
      "\u001b[1m98/98\u001b[0m \u001b[32m━━━━━━━━━━━━━━━━━━━━\u001b[0m\u001b[37m\u001b[0m \u001b[1m31s\u001b[0m 313ms/step - accuracy: 0.9234 - loss: 1.1723 - learning_rate: 0.0010\n",
      "Epoch 56/100\n",
      "\u001b[1m98/98\u001b[0m \u001b[32m━━━━━━━━━━━━━━━━━━━━\u001b[0m\u001b[37m\u001b[0m \u001b[1m31s\u001b[0m 312ms/step - accuracy: 0.9147 - loss: 1.3183 - learning_rate: 0.0010\n",
      "Epoch 57/100\n",
      "\u001b[1m98/98\u001b[0m \u001b[32m━━━━━━━━━━━━━━━━━━━━\u001b[0m\u001b[37m\u001b[0m \u001b[1m31s\u001b[0m 316ms/step - accuracy: 0.9151 - loss: 1.2874 - learning_rate: 0.0010\n",
      "Epoch 58/100\n",
      "\u001b[1m98/98\u001b[0m \u001b[32m━━━━━━━━━━━━━━━━━━━━\u001b[0m\u001b[37m\u001b[0m \u001b[1m31s\u001b[0m 313ms/step - accuracy: 0.9376 - loss: 1.1707 - learning_rate: 0.0010\n",
      "Epoch 59/100\n",
      "\u001b[1m98/98\u001b[0m \u001b[32m━━━━━━━━━━━━━━━━━━━━\u001b[0m\u001b[37m\u001b[0m \u001b[1m31s\u001b[0m 318ms/step - accuracy: 0.9176 - loss: 1.2102 - learning_rate: 0.0010\n",
      "Epoch 60/100\n",
      "\u001b[1m98/98\u001b[0m \u001b[32m━━━━━━━━━━━━━━━━━━━━\u001b[0m\u001b[37m\u001b[0m \u001b[1m31s\u001b[0m 315ms/step - accuracy: 0.9376 - loss: 1.1658 - learning_rate: 0.0010\n",
      "Epoch 61/100\n",
      "\u001b[1m98/98\u001b[0m \u001b[32m━━━━━━━━━━━━━━━━━━━━\u001b[0m\u001b[37m\u001b[0m \u001b[1m30s\u001b[0m 310ms/step - accuracy: 0.9221 - loss: 1.2513 - learning_rate: 0.0010\n",
      "Epoch 62/100\n",
      "\u001b[1m98/98\u001b[0m \u001b[32m━━━━━━━━━━━━━━━━━━━━\u001b[0m\u001b[37m\u001b[0m \u001b[1m30s\u001b[0m 304ms/step - accuracy: 0.9367 - loss: 1.0743 - learning_rate: 0.0010\n",
      "Epoch 63/100\n",
      "\u001b[1m98/98\u001b[0m \u001b[32m━━━━━━━━━━━━━━━━━━━━\u001b[0m\u001b[37m\u001b[0m \u001b[1m31s\u001b[0m 311ms/step - accuracy: 0.9208 - loss: 1.2871 - learning_rate: 0.0010\n",
      "Epoch 64/100\n",
      "\u001b[1m98/98\u001b[0m \u001b[32m━━━━━━━━━━━━━━━━━━━━\u001b[0m\u001b[37m\u001b[0m \u001b[1m31s\u001b[0m 313ms/step - accuracy: 0.9436 - loss: 1.1084 - learning_rate: 0.0010\n",
      "Epoch 65/100\n",
      "\u001b[1m98/98\u001b[0m \u001b[32m━━━━━━━━━━━━━━━━━━━━\u001b[0m\u001b[37m\u001b[0m \u001b[1m30s\u001b[0m 310ms/step - accuracy: 0.9140 - loss: 1.4826 - learning_rate: 0.0010\n",
      "Epoch 66/100\n",
      "\u001b[1m98/98\u001b[0m \u001b[32m━━━━━━━━━━━━━━━━━━━━\u001b[0m\u001b[37m\u001b[0m \u001b[1m30s\u001b[0m 304ms/step - accuracy: 0.9387 - loss: 1.2010 - learning_rate: 0.0010\n",
      "Epoch 67/100\n",
      "\u001b[1m98/98\u001b[0m \u001b[32m━━━━━━━━━━━━━━━━━━━━\u001b[0m\u001b[37m\u001b[0m \u001b[1m30s\u001b[0m 305ms/step - accuracy: 0.9449 - loss: 1.0696 - learning_rate: 0.0010\n",
      "Epoch 68/100\n",
      "\u001b[1m98/98\u001b[0m \u001b[32m━━━━━━━━━━━━━━━━━━━━\u001b[0m\u001b[37m\u001b[0m \u001b[1m30s\u001b[0m 303ms/step - accuracy: 0.9130 - loss: 1.2999 - learning_rate: 0.0010\n",
      "Epoch 69/100\n",
      "\u001b[1m98/98\u001b[0m \u001b[32m━━━━━━━━━━━━━━━━━━━━\u001b[0m\u001b[37m\u001b[0m \u001b[1m30s\u001b[0m 307ms/step - accuracy: 0.9261 - loss: 1.2912 - learning_rate: 0.0010\n",
      "Epoch 70/100\n",
      "\u001b[1m98/98\u001b[0m \u001b[32m━━━━━━━━━━━━━━━━━━━━\u001b[0m\u001b[37m\u001b[0m \u001b[1m30s\u001b[0m 304ms/step - accuracy: 0.9225 - loss: 1.1905 - learning_rate: 0.0010\n",
      "Epoch 71/100\n",
      "\u001b[1m98/98\u001b[0m \u001b[32m━━━━━━━━━━━━━━━━━━━━\u001b[0m\u001b[37m\u001b[0m \u001b[1m30s\u001b[0m 302ms/step - accuracy: 0.9405 - loss: 1.0696 - learning_rate: 0.0010\n",
      "Epoch 72/100\n",
      "\u001b[1m98/98\u001b[0m \u001b[32m━━━━━━━━━━━━━━━━━━━━\u001b[0m\u001b[37m\u001b[0m \u001b[1m30s\u001b[0m 305ms/step - accuracy: 0.9458 - loss: 0.9745 - learning_rate: 0.0010\n",
      "Epoch 73/100\n",
      "\u001b[1m98/98\u001b[0m \u001b[32m━━━━━━━━━━━━━━━━━━━━\u001b[0m\u001b[37m\u001b[0m \u001b[1m30s\u001b[0m 306ms/step - accuracy: 0.9279 - loss: 1.1222 - learning_rate: 0.0010\n",
      "Epoch 74/100\n",
      "\u001b[1m98/98\u001b[0m \u001b[32m━━━━━━━━━━━━━━━━━━━━\u001b[0m\u001b[37m\u001b[0m \u001b[1m29s\u001b[0m 300ms/step - accuracy: 0.9539 - loss: 1.0093 - learning_rate: 0.0010\n",
      "Epoch 75/100\n",
      "\u001b[1m98/98\u001b[0m \u001b[32m━━━━━━━━━━━━━━━━━━━━\u001b[0m\u001b[37m\u001b[0m \u001b[1m30s\u001b[0m 305ms/step - accuracy: 0.9370 - loss: 1.1114 - learning_rate: 0.0010\n",
      "Epoch 76/100\n",
      "\u001b[1m98/98\u001b[0m \u001b[32m━━━━━━━━━━━━━━━━━━━━\u001b[0m\u001b[37m\u001b[0m \u001b[1m30s\u001b[0m 309ms/step - accuracy: 0.9475 - loss: 1.0626 - learning_rate: 0.0010\n",
      "Epoch 77/100\n",
      "\u001b[1m98/98\u001b[0m \u001b[32m━━━━━━━━━━━━━━━━━━━━\u001b[0m\u001b[37m\u001b[0m \u001b[1m30s\u001b[0m 309ms/step - accuracy: 0.9531 - loss: 1.0014 - learning_rate: 0.0010\n",
      "Epoch 78/100\n",
      "\u001b[1m98/98\u001b[0m \u001b[32m━━━━━━━━━━━━━━━━━━━━\u001b[0m\u001b[37m\u001b[0m \u001b[1m30s\u001b[0m 305ms/step - accuracy: 0.9445 - loss: 1.0755 - learning_rate: 0.0010\n",
      "Epoch 79/100\n",
      "\u001b[1m98/98\u001b[0m \u001b[32m━━━━━━━━━━━━━━━━━━━━\u001b[0m\u001b[37m\u001b[0m \u001b[1m30s\u001b[0m 306ms/step - accuracy: 0.9424 - loss: 1.0439 - learning_rate: 0.0010\n",
      "Epoch 80/100\n",
      "\u001b[1m98/98\u001b[0m \u001b[32m━━━━━━━━━━━━━━━━━━━━\u001b[0m\u001b[37m\u001b[0m \u001b[1m30s\u001b[0m 310ms/step - accuracy: 0.9375 - loss: 0.9725 - learning_rate: 0.0010\n",
      "Epoch 81/100\n",
      "\u001b[1m98/98\u001b[0m \u001b[32m━━━━━━━━━━━━━━━━━━━━\u001b[0m\u001b[37m\u001b[0m \u001b[1m31s\u001b[0m 314ms/step - accuracy: 0.9297 - loss: 1.0724 - learning_rate: 0.0010\n",
      "Epoch 82/100\n",
      "\u001b[1m98/98\u001b[0m \u001b[32m━━━━━━━━━━━━━━━━━━━━\u001b[0m\u001b[37m\u001b[0m \u001b[1m30s\u001b[0m 310ms/step - accuracy: 0.9709 - loss: 0.8396 - learning_rate: 0.0010\n",
      "Epoch 83/100\n",
      "\u001b[1m98/98\u001b[0m \u001b[32m━━━━━━━━━━━━━━━━━━━━\u001b[0m\u001b[37m\u001b[0m \u001b[1m31s\u001b[0m 315ms/step - accuracy: 0.9386 - loss: 0.9574 - learning_rate: 0.0010\n",
      "Epoch 84/100\n",
      "\u001b[1m98/98\u001b[0m \u001b[32m━━━━━━━━━━━━━━━━━━━━\u001b[0m\u001b[37m\u001b[0m \u001b[1m31s\u001b[0m 315ms/step - accuracy: 0.9268 - loss: 1.1524 - learning_rate: 0.0010\n",
      "Epoch 85/100\n",
      "\u001b[1m98/98\u001b[0m \u001b[32m━━━━━━━━━━━━━━━━━━━━\u001b[0m\u001b[37m\u001b[0m \u001b[1m31s\u001b[0m 312ms/step - accuracy: 0.9491 - loss: 1.0710 - learning_rate: 0.0010\n",
      "Epoch 86/100\n",
      "\u001b[1m98/98\u001b[0m \u001b[32m━━━━━━━━━━━━━━━━━━━━\u001b[0m\u001b[37m\u001b[0m \u001b[1m30s\u001b[0m 305ms/step - accuracy: 0.9528 - loss: 0.9682 - learning_rate: 0.0010\n",
      "Epoch 87/100\n",
      "\u001b[1m98/98\u001b[0m \u001b[32m━━━━━━━━━━━━━━━━━━━━\u001b[0m\u001b[37m\u001b[0m \u001b[1m30s\u001b[0m 310ms/step - accuracy: 0.9474 - loss: 0.9650 - learning_rate: 0.0010\n",
      "Epoch 88/100\n",
      "\u001b[1m98/98\u001b[0m \u001b[32m━━━━━━━━━━━━━━━━━━━━\u001b[0m\u001b[37m\u001b[0m \u001b[1m31s\u001b[0m 314ms/step - accuracy: 0.9245 - loss: 1.1488 - learning_rate: 0.0010\n",
      "Epoch 89/100\n",
      "\u001b[1m98/98\u001b[0m \u001b[32m━━━━━━━━━━━━━━━━━━━━\u001b[0m\u001b[37m\u001b[0m \u001b[1m30s\u001b[0m 311ms/step - accuracy: 0.9467 - loss: 1.0545 - learning_rate: 0.0010\n",
      "Epoch 90/100\n",
      "\u001b[1m98/98\u001b[0m \u001b[32m━━━━━━━━━━━━━━━━━━━━\u001b[0m\u001b[37m\u001b[0m \u001b[1m31s\u001b[0m 312ms/step - accuracy: 0.9212 - loss: 1.2743 - learning_rate: 0.0010\n",
      "Epoch 91/100\n",
      "\u001b[1m98/98\u001b[0m \u001b[32m━━━━━━━━━━━━━━━━━━━━\u001b[0m\u001b[37m\u001b[0m \u001b[1m31s\u001b[0m 318ms/step - accuracy: 0.9519 - loss: 0.9540 - learning_rate: 0.0010\n",
      "Epoch 92/100\n",
      "\u001b[1m98/98\u001b[0m \u001b[32m━━━━━━━━━━━━━━━━━━━━\u001b[0m\u001b[37m\u001b[0m \u001b[1m31s\u001b[0m 314ms/step - accuracy: 0.9542 - loss: 0.8350 - learning_rate: 0.0010\n",
      "Epoch 93/100\n",
      "\u001b[1m98/98\u001b[0m \u001b[32m━━━━━━━━━━━━━━━━━━━━\u001b[0m\u001b[37m\u001b[0m \u001b[1m31s\u001b[0m 315ms/step - accuracy: 0.9511 - loss: 0.9090 - learning_rate: 0.0010\n",
      "Epoch 94/100\n",
      "\u001b[1m98/98\u001b[0m \u001b[32m━━━━━━━━━━━━━━━━━━━━\u001b[0m\u001b[37m\u001b[0m \u001b[1m31s\u001b[0m 316ms/step - accuracy: 0.9556 - loss: 0.9781 - learning_rate: 0.0010\n",
      "Epoch 95/100\n",
      "\u001b[1m98/98\u001b[0m \u001b[32m━━━━━━━━━━━━━━━━━━━━\u001b[0m\u001b[37m\u001b[0m \u001b[1m31s\u001b[0m 314ms/step - accuracy: 0.9342 - loss: 0.9521 - learning_rate: 0.0010\n",
      "Epoch 96/100\n",
      "\u001b[1m98/98\u001b[0m \u001b[32m━━━━━━━━━━━━━━━━━━━━\u001b[0m\u001b[37m\u001b[0m \u001b[1m31s\u001b[0m 320ms/step - accuracy: 0.9358 - loss: 1.1579 - learning_rate: 0.0010\n",
      "Epoch 97/100\n",
      "\u001b[1m98/98\u001b[0m \u001b[32m━━━━━━━━━━━━━━━━━━━━\u001b[0m\u001b[37m\u001b[0m \u001b[1m31s\u001b[0m 320ms/step - accuracy: 0.9460 - loss: 0.9525 - learning_rate: 0.0010\n",
      "Epoch 98/100\n",
      "\u001b[1m98/98\u001b[0m \u001b[32m━━━━━━━━━━━━━━━━━━━━\u001b[0m\u001b[37m\u001b[0m \u001b[1m31s\u001b[0m 313ms/step - accuracy: 0.9549 - loss: 0.8477 - learning_rate: 0.0010\n",
      "Epoch 99/100\n",
      "\u001b[1m98/98\u001b[0m \u001b[32m━━━━━━━━━━━━━━━━━━━━\u001b[0m\u001b[37m\u001b[0m \u001b[1m31s\u001b[0m 319ms/step - accuracy: 0.9417 - loss: 1.0268 - learning_rate: 0.0010\n",
      "Epoch 100/100\n",
      "\u001b[1m98/98\u001b[0m \u001b[32m━━━━━━━━━━━━━━━━━━━━\u001b[0m\u001b[37m\u001b[0m \u001b[1m30s\u001b[0m 310ms/step - accuracy: 0.9557 - loss: 0.9022 - learning_rate: 0.0010\n"
     ]
    }
   ],
   "source": [
    "from tensorflow.keras.callbacks import EarlyStopping, ReduceLROnPlateau\n",
    "\n",
    "early_stopping = EarlyStopping(monitor='val_loss', patience=5, restore_best_weights=True)\n",
    "reduce_lr = ReduceLROnPlateau(monitor='val_loss', factor=0.5, patience=3, min_lr=1e-6)\n",
    "\n",
    "history = model.fit(\n",
    "    train_images, train_labels,\n",
    "    validation_data=(validation_images, validation_labels),\n",
    "    epochs=100, \n",
    "    batch_size=32,\n",
    "    callbacks=[early_stopping, reduce_lr,checkpoint_callback]\n",
    ")"
   ]
  },
  {
   "cell_type": "code",
   "execution_count": 156,
   "metadata": {
    "execution": {
     "iopub.execute_input": "2025-02-25T10:22:56.371815Z",
     "iopub.status.busy": "2025-02-25T10:22:56.371428Z",
     "iopub.status.idle": "2025-02-25T10:22:58.243431Z",
     "shell.execute_reply": "2025-02-25T10:22:58.242543Z",
     "shell.execute_reply.started": "2025-02-25T10:22:56.371774Z"
    },
    "trusted": true
   },
   "outputs": [
    {
     "name": "stdout",
     "output_type": "stream",
     "text": [
      "\u001b[1m25/25\u001b[0m \u001b[32m━━━━━━━━━━━━━━━━━━━━\u001b[0m\u001b[37m\u001b[0m \u001b[1m2s\u001b[0m 71ms/step - accuracy: 0.5203 - loss: 3.2280\n",
      "Test Loss: 3.738107919692993\n",
      "Test Accuracy: 0.47564101219177246\n"
     ]
    }
   ],
   "source": [
    "test_loss, test_accuracy = model.evaluate(test_images, test_labels, batch_size=32)\n",
    "print(f\"Test Loss: {test_loss}\")\n",
    "print(f\"Test Accuracy: {test_accuracy}\")"
   ]
  }
 ],
 "metadata": {
  "kaggle": {
   "accelerator": "gpu",
   "dataSources": [
    {
     "datasetId": 4982232,
     "sourceId": 8378585,
     "sourceType": "datasetVersion"
    }
   ],
   "dockerImageVersionId": 30919,
   "isGpuEnabled": true,
   "isInternetEnabled": true,
   "language": "python",
   "sourceType": "notebook"
  },
  "kernelspec": {
   "display_name": "Python 3",
   "language": "python",
   "name": "python3"
  },
  "language_info": {
   "codemirror_mode": {
    "name": "ipython",
    "version": 3
   },
   "file_extension": ".py",
   "mimetype": "text/x-python",
   "name": "python",
   "nbconvert_exporter": "python",
   "pygments_lexer": "ipython3",
   "version": "3.11.9"
  }
 },
 "nbformat": 4,
 "nbformat_minor": 4
}
